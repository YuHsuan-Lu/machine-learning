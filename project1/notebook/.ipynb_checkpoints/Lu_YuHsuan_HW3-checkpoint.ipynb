{
 "cells": [
  {
   "cell_type": "markdown",
   "metadata": {},
   "source": [
    "<center><h1>Last_First_HW3</h1></center>\n",
    "<br>\n",
    "<br>"
   ]
  },
  {
   "cell_type": "markdown",
   "metadata": {},
   "source": [
    "Name: Yu-Hsuan Lu\n",
    "<br>\n",
    "Github Username: @YuHsuan-Lu\n",
    "<br>\n",
    "USC ID: 6849388612"
   ]
  },
  {
   "cell_type": "markdown",
   "metadata": {},
   "source": [
    "## 1. Time Series Classification Part 1: Feature Creation/Extraction"
   ]
  },
  {
   "cell_type": "markdown",
   "metadata": {},
   "source": [
    "### (a) Download Data"
   ]
  },
  {
   "cell_type": "markdown",
   "metadata": {},
   "source": [
    "Package imports"
   ]
  },
  {
   "cell_type": "code",
   "execution_count": 539,
   "metadata": {},
   "outputs": [],
   "source": [
    "import pandas as pd\n",
    "import seaborn as sns\n",
    "import numpy as np\n",
    "import os\n",
    "import csv\n",
    "from sklearn.utils import resample"
   ]
  },
  {
   "cell_type": "markdown",
   "metadata": {},
   "source": [
    "Get the AReM Data Set"
   ]
  },
  {
   "cell_type": "code",
   "execution_count": 540,
   "metadata": {},
   "outputs": [],
   "source": [
    "test = []\n",
    "train = []\n",
    "# Specify the parent folder path\n",
    "root = '../data/AReM'\n",
    "\n",
    "# List the items (files and directories) in the parent folder\n",
    "folders = os.listdir(root)\n",
    "\n",
    "# Iterate through the items and filter out directories\n",
    "for f in folders:\n",
    "    f_path = os.path.join(root,f)  # Full path to the item   \n",
    "    # Check if the item is a directory\n",
    "    if os.path.isdir(f_path):\n",
    "        if f == 'bending1' or f == 'bending2':\n",
    "            for file in os.listdir(f_path):\n",
    "                file_path = os.path.join(f_path,file)\n",
    "                if file == 'dataset1.csv' or file == 'dataset2.csv':\n",
    "                    test.append(file_path)\n",
    "                else:\n",
    "                    train.append(file_path)\n",
    "        else:\n",
    "            for file in os.listdir(f_path):\n",
    "                file_path = os.path.join(f_path,file)\n",
    "                if file == 'dataset1.csv' or file == 'dataset2.csv'or file == 'dataset3.csv':\n",
    "                    test.append(file_path)\n",
    "                else:\n",
    "                    train.append(file_path)"
   ]
  },
  {
   "cell_type": "markdown",
   "metadata": {},
   "source": [
    "### (b) Test and Train Data"
   ]
  },
  {
   "cell_type": "code",
   "execution_count": 541,
   "metadata": {},
   "outputs": [
    {
     "data": {
      "text/plain": [
       "['../data/AReM/bending1/dataset1.csv',\n",
       " '../data/AReM/bending1/dataset2.csv',\n",
       " '../data/AReM/walking/dataset1.csv',\n",
       " '../data/AReM/walking/dataset2.csv',\n",
       " '../data/AReM/walking/dataset3.csv',\n",
       " '../data/AReM/bending2/dataset1.csv',\n",
       " '../data/AReM/bending2/dataset2.csv',\n",
       " '../data/AReM/standing/dataset1.csv',\n",
       " '../data/AReM/standing/dataset2.csv',\n",
       " '../data/AReM/standing/dataset3.csv',\n",
       " '../data/AReM/sitting/dataset1.csv',\n",
       " '../data/AReM/sitting/dataset2.csv',\n",
       " '../data/AReM/sitting/dataset3.csv',\n",
       " '../data/AReM/lying/dataset1.csv',\n",
       " '../data/AReM/lying/dataset2.csv',\n",
       " '../data/AReM/lying/dataset3.csv',\n",
       " '../data/AReM/cycling/dataset1.csv',\n",
       " '../data/AReM/cycling/dataset2.csv',\n",
       " '../data/AReM/cycling/dataset3.csv']"
      ]
     },
     "execution_count": 541,
     "metadata": {},
     "output_type": "execute_result"
    }
   ],
   "source": [
    "test"
   ]
  },
  {
   "cell_type": "code",
   "execution_count": 542,
   "metadata": {},
   "outputs": [
    {
     "data": {
      "text/plain": [
       "['../data/AReM/bending1/dataset7.csv',\n",
       " '../data/AReM/bending1/dataset6.csv',\n",
       " '../data/AReM/bending1/dataset4.csv',\n",
       " '../data/AReM/bending1/dataset5.csv',\n",
       " '../data/AReM/bending1/dataset3.csv',\n",
       " '../data/AReM/walking/dataset7.csv',\n",
       " '../data/AReM/walking/dataset6.csv',\n",
       " '../data/AReM/walking/dataset4.csv',\n",
       " '../data/AReM/walking/dataset5.csv',\n",
       " '../data/AReM/walking/dataset10.csv',\n",
       " '../data/AReM/walking/dataset11.csv',\n",
       " '../data/AReM/walking/dataset13.csv',\n",
       " '../data/AReM/walking/dataset12.csv',\n",
       " '../data/AReM/walking/dataset15.csv',\n",
       " '../data/AReM/walking/dataset14.csv',\n",
       " '../data/AReM/walking/dataset8.csv',\n",
       " '../data/AReM/walking/dataset9.csv',\n",
       " '../data/AReM/bending2/dataset6.csv',\n",
       " '../data/AReM/bending2/dataset4.csv',\n",
       " '../data/AReM/bending2/dataset5.csv',\n",
       " '../data/AReM/bending2/dataset3.csv',\n",
       " '../data/AReM/standing/dataset7.csv',\n",
       " '../data/AReM/standing/dataset6.csv',\n",
       " '../data/AReM/standing/dataset4.csv',\n",
       " '../data/AReM/standing/dataset5.csv',\n",
       " '../data/AReM/standing/dataset10.csv',\n",
       " '../data/AReM/standing/dataset11.csv',\n",
       " '../data/AReM/standing/dataset13.csv',\n",
       " '../data/AReM/standing/dataset12.csv',\n",
       " '../data/AReM/standing/dataset15.csv',\n",
       " '../data/AReM/standing/dataset14.csv',\n",
       " '../data/AReM/standing/dataset8.csv',\n",
       " '../data/AReM/standing/dataset9.csv',\n",
       " '../data/AReM/sitting/dataset7.csv',\n",
       " '../data/AReM/sitting/dataset6.csv',\n",
       " '../data/AReM/sitting/dataset4.csv',\n",
       " '../data/AReM/sitting/dataset5.csv',\n",
       " '../data/AReM/sitting/dataset10.csv',\n",
       " '../data/AReM/sitting/dataset11.csv',\n",
       " '../data/AReM/sitting/dataset13.csv',\n",
       " '../data/AReM/sitting/dataset12.csv',\n",
       " '../data/AReM/sitting/dataset15.csv',\n",
       " '../data/AReM/sitting/dataset14.csv',\n",
       " '../data/AReM/sitting/dataset8.csv',\n",
       " '../data/AReM/sitting/dataset9.csv',\n",
       " '../data/AReM/lying/dataset7.csv',\n",
       " '../data/AReM/lying/dataset6.csv',\n",
       " '../data/AReM/lying/dataset4.csv',\n",
       " '../data/AReM/lying/dataset5.csv',\n",
       " '../data/AReM/lying/dataset10.csv',\n",
       " '../data/AReM/lying/dataset11.csv',\n",
       " '../data/AReM/lying/dataset13.csv',\n",
       " '../data/AReM/lying/dataset12.csv',\n",
       " '../data/AReM/lying/dataset15.csv',\n",
       " '../data/AReM/lying/dataset14.csv',\n",
       " '../data/AReM/lying/dataset8.csv',\n",
       " '../data/AReM/lying/dataset9.csv',\n",
       " '../data/AReM/cycling/dataset7.csv',\n",
       " '../data/AReM/cycling/dataset6.csv',\n",
       " '../data/AReM/cycling/dataset4.csv',\n",
       " '../data/AReM/cycling/dataset5.csv',\n",
       " '../data/AReM/cycling/dataset10.csv',\n",
       " '../data/AReM/cycling/dataset11.csv',\n",
       " '../data/AReM/cycling/dataset13.csv',\n",
       " '../data/AReM/cycling/dataset12.csv',\n",
       " '../data/AReM/cycling/dataset15.csv',\n",
       " '../data/AReM/cycling/dataset14.csv',\n",
       " '../data/AReM/cycling/dataset8.csv',\n",
       " '../data/AReM/cycling/dataset9.csv']"
      ]
     },
     "execution_count": 542,
     "metadata": {},
     "output_type": "execute_result"
    }
   ],
   "source": [
    "train"
   ]
  },
  {
   "cell_type": "markdown",
   "metadata": {},
   "source": [
    "### (c) Feature Extraction"
   ]
  },
  {
   "cell_type": "markdown",
   "metadata": {
    "tags": []
   },
   "source": [
    "#### i. Research"
   ]
  },
  {
   "cell_type": "markdown",
   "metadata": {},
   "source": []
  },
  {
   "cell_type": "markdown",
   "metadata": {
    "tags": []
   },
   "source": [
    "#### ii. Extraction"
   ]
  },
  {
   "cell_type": "code",
   "execution_count": 543,
   "metadata": {},
   "outputs": [],
   "source": [
    "COLUMN_NAMES = [\"# Columns: time\",\"avg_rss12\",\"var_rss12\",\"avg_rss13\",\"var_rss13\",\"avg_rss23\",\"var_rss23\"]\n",
    "STATS = ['min', 'max', 'mean', 'median', 'std', '1st_quartile', '3rd_quartile']\n",
    "ROOT = '../data/AReM/'"
   ]
  },
  {
   "cell_type": "code",
   "execution_count": 544,
   "metadata": {},
   "outputs": [],
   "source": [
    "def get_label(file):\n",
    "    parent_directory = os.path.dirname(file)\n",
    "    filename_components = parent_directory.split(\"/\")\n",
    "    return filename_components[-1]\n",
    "\n",
    "def get_separator(file):\n",
    "    f = open(file)\n",
    "    return csv.Sniffer().sniff(f.read()).delimiter\n",
    "\n",
    "def get_columns():\n",
    "    feature = []\n",
    "    for i in range(1, 7):\n",
    "        for stat in STATS:\n",
    "            feature.append(f'{stat}{i}')\n",
    "    return feature\n",
    "    \n",
    "def load_data(files, feature, cols, segs=1, standard=False):\n",
    "    import csv\n",
    "    \n",
    "    instances  = []\n",
    "    labels = []\n",
    "    for f in files:\n",
    "        labels.append(get_label(f))\n",
    "        separator = get_separator(f)\n",
    "        if separator == \",\":\n",
    "            fc = pd.read_csv(f, skiprows=5, header=None, on_bad_lines='skip')\n",
    "        else:\n",
    "            fc = pd.read_csv(f, skiprows=5, sep=\"\\\\s+\", header=None, on_bad_lines='skip')\n",
    "            \n",
    "        fc.columns = COLUMN_NAMES\n",
    "\n",
    "        description = []\n",
    "        \n",
    "        cur_seg = fc[0 : fc.shape[0]]\n",
    "        cur_describe = cur_seg.describe().drop('count').drop(columns=\"# Columns: time\").T\n",
    "        description.append(cur_describe.values.flatten())\n",
    "\n",
    "        instances.append(np.concatenate(description))\n",
    "            \n",
    "    # reordering\n",
    "    feature_df = pd.DataFrame(instances)\n",
    "    feature_df.columns = get_columns()\n",
    "    feature_df = feature_df.loc[:, feature]\n",
    "    \n",
    "    # label addition\n",
    "    feature_df['label'] = pd.Series(labels)\n",
    "    \n",
    "    return feature_df\n",
    "\n",
    "feature = [f'{stat}{i}' for i in range(1, 7) for stat in STATS]\n",
    "\n",
    "train_data = load_data(train, feature, COLUMN_NAMES)\n",
    "test_data = load_data(test, feature, COLUMN_NAMES)\n",
    "#train_data"
   ]
  },
  {
   "cell_type": "markdown",
   "metadata": {
    "tags": []
   },
   "source": [
    "#### iii. Standard Deviation"
   ]
  },
  {
   "cell_type": "code",
   "execution_count": 545,
   "metadata": {},
   "outputs": [
    {
     "data": {
      "text/plain": [
       "min1             4.917692\n",
       "max1             1.758670\n",
       "mean1            8.794295\n",
       "median1          5.731647\n",
       "std1             4.956111\n",
       "1st_quartile1    4.783645\n",
       "3rd_quartile1    4.429182\n",
       "min2             1.600701\n",
       "max2             0.902808\n",
       "mean2            0.000000\n",
       "median2          0.952201\n",
       "std2             1.436960\n",
       "1st_quartile2    2.158416\n",
       "3rd_quartile2    5.147841\n",
       "min3             3.863097\n",
       "max3             0.995959\n",
       "mean3            3.053869\n",
       "median3          4.145255\n",
       "std3             3.845730\n",
       "1st_quartile3    3.946023\n",
       "3rd_quartile3    4.759853\n",
       "min4             1.179861\n",
       "max4             0.473576\n",
       "mean4            0.000000\n",
       "median4          0.842501\n",
       "std4             1.150092\n",
       "1st_quartile4    1.566564\n",
       "3rd_quartile4    2.302408\n",
       "min5             5.120426\n",
       "max5             1.057998\n",
       "mean5            5.368786\n",
       "median5          5.543882\n",
       "std5             5.267414\n",
       "1st_quartile5    4.957231\n",
       "3rd_quartile5    5.449726\n",
       "min6             1.171401\n",
       "max6             0.519420\n",
       "mean6            0.051766\n",
       "median6          0.774358\n",
       "std6             1.104626\n",
       "1st_quartile6    1.550393\n",
       "3rd_quartile6    2.540166\n",
       "Name: std, dtype: float64"
      ]
     },
     "execution_count": 545,
     "metadata": {},
     "output_type": "execute_result"
    }
   ],
   "source": [
    "###generate statistics for all columns\n",
    "#train_data.describe()\n",
    "###only select the std data for all columns\n",
    "train_data.describe().loc['std']"
   ]
  },
  {
   "cell_type": "code",
   "execution_count": 546,
   "metadata": {},
   "outputs": [
    {
     "data": {
      "text/plain": [
       "min1              6.790086\n",
       "max1              1.869285\n",
       "mean1            12.136206\n",
       "median1           7.673052\n",
       "std1              7.088085\n",
       "1st_quartile1     6.385720\n",
       "3rd_quartile1     4.379342\n",
       "min2              1.500529\n",
       "max2              0.832472\n",
       "mean2             0.000000\n",
       "median2           0.941307\n",
       "std2              1.345903\n",
       "1st_quartile2     2.028482\n",
       "3rd_quartile2     4.870395\n",
       "min3              4.588252\n",
       "max3              0.760779\n",
       "mean3             2.644618\n",
       "median3           4.554121\n",
       "std3              4.753522\n",
       "1st_quartile3     5.014339\n",
       "3rd_quartile3     5.393220\n",
       "min4              1.146338\n",
       "max4              0.409008\n",
       "mean4             0.000000\n",
       "median4           0.867088\n",
       "std4              1.161705\n",
       "1st_quartile4     1.541943\n",
       "3rd_quartile4     1.733937\n",
       "min5              7.366781\n",
       "max5              0.919274\n",
       "mean5             8.252947\n",
       "median5           7.823870\n",
       "std5              7.438749\n",
       "1st_quartile5     7.259433\n",
       "3rd_quartile5     6.782153\n",
       "min6              1.119410\n",
       "max6              0.525263\n",
       "mean6             0.000000\n",
       "median6           0.711956\n",
       "std6              1.037811\n",
       "1st_quartile6     1.461470\n",
       "3rd_quartile6     2.505306\n",
       "Name: std, dtype: float64"
      ]
     },
     "execution_count": 546,
     "metadata": {},
     "output_type": "execute_result"
    }
   ],
   "source": [
    "###generate statistics for all columns\n",
    "#test_data.describe()\n",
    "###only select the std data for all columns\n",
    "test_data.describe().loc['std']"
   ]
  },
  {
   "cell_type": "markdown",
   "metadata": {
    "tags": []
   },
   "source": [
    "#### iv. Select Features"
   ]
  },
  {
   "cell_type": "markdown",
   "metadata": {},
   "source": []
  },
  {
   "cell_type": "code",
   "execution_count": 547,
   "metadata": {},
   "outputs": [
    {
     "data": {
      "text/html": [
       "<div>\n",
       "<style scoped>\n",
       "    .dataframe tbody tr th:only-of-type {\n",
       "        vertical-align: middle;\n",
       "    }\n",
       "\n",
       "    .dataframe tbody tr th {\n",
       "        vertical-align: top;\n",
       "    }\n",
       "\n",
       "    .dataframe thead th {\n",
       "        text-align: right;\n",
       "    }\n",
       "</style>\n",
       "<table border=\"1\" class=\"dataframe\">\n",
       "  <thead>\n",
       "    <tr style=\"text-align: right;\">\n",
       "      <th></th>\n",
       "      <th>bound</th>\n",
       "      <th>min1</th>\n",
       "      <th>max1</th>\n",
       "      <th>mean1</th>\n",
       "      <th>median1</th>\n",
       "      <th>std1</th>\n",
       "      <th>1st_quartile1</th>\n",
       "      <th>3rd_quartile1</th>\n",
       "      <th>min2</th>\n",
       "      <th>max2</th>\n",
       "      <th>...</th>\n",
       "      <th>std5</th>\n",
       "      <th>1st_quartile5</th>\n",
       "      <th>3rd_quartile5</th>\n",
       "      <th>min6</th>\n",
       "      <th>max6</th>\n",
       "      <th>mean6</th>\n",
       "      <th>median6</th>\n",
       "      <th>std6</th>\n",
       "      <th>1st_quartile6</th>\n",
       "      <th>3rd_quartile6</th>\n",
       "    </tr>\n",
       "  </thead>\n",
       "  <tbody>\n",
       "    <tr>\n",
       "      <th>0</th>\n",
       "      <td>low</td>\n",
       "      <td>4.29</td>\n",
       "      <td>1.53</td>\n",
       "      <td>7.48</td>\n",
       "      <td>5.11</td>\n",
       "      <td>4.29</td>\n",
       "      <td>3.89</td>\n",
       "      <td>3.24</td>\n",
       "      <td>1.39</td>\n",
       "      <td>0.81</td>\n",
       "      <td>...</td>\n",
       "      <td>3.73</td>\n",
       "      <td>3.60</td>\n",
       "      <td>4.25</td>\n",
       "      <td>1.06</td>\n",
       "      <td>0.47</td>\n",
       "      <td>0.00</td>\n",
       "      <td>0.69</td>\n",
       "      <td>0.99</td>\n",
       "      <td>1.40</td>\n",
       "      <td>2.2</td>\n",
       "    </tr>\n",
       "    <tr>\n",
       "      <th>1</th>\n",
       "      <td>high</td>\n",
       "      <td>5.38</td>\n",
       "      <td>1.93</td>\n",
       "      <td>9.95</td>\n",
       "      <td>6.16</td>\n",
       "      <td>5.44</td>\n",
       "      <td>5.48</td>\n",
       "      <td>5.35</td>\n",
       "      <td>1.73</td>\n",
       "      <td>0.96</td>\n",
       "      <td>...</td>\n",
       "      <td>6.50</td>\n",
       "      <td>6.06</td>\n",
       "      <td>6.36</td>\n",
       "      <td>1.23</td>\n",
       "      <td>0.55</td>\n",
       "      <td>0.09</td>\n",
       "      <td>0.82</td>\n",
       "      <td>1.16</td>\n",
       "      <td>1.62</td>\n",
       "      <td>2.8</td>\n",
       "    </tr>\n",
       "  </tbody>\n",
       "</table>\n",
       "<p>2 rows × 43 columns</p>\n",
       "</div>"
      ],
      "text/plain": [
       "  bound  min1  max1  mean1  median1  std1  1st_quartile1  3rd_quartile1  min2  \\\n",
       "0   low  4.29  1.53   7.48     5.11  4.29           3.89           3.24  1.39   \n",
       "1  high  5.38  1.93   9.95     6.16  5.44           5.48           5.35  1.73   \n",
       "\n",
       "   max2  ...  std5  1st_quartile5  3rd_quartile5  min6  max6  mean6  median6  \\\n",
       "0  0.81  ...  3.73           3.60           4.25  1.06  0.47   0.00     0.69   \n",
       "1  0.96  ...  6.50           6.06           6.36  1.23  0.55   0.09     0.82   \n",
       "\n",
       "   std6  1st_quartile6  3rd_quartile6  \n",
       "0  0.99           1.40            2.2  \n",
       "1  1.16           1.62            2.8  \n",
       "\n",
       "[2 rows x 43 columns]"
      ]
     },
     "execution_count": 547,
     "metadata": {},
     "output_type": "execute_result"
    }
   ],
   "source": [
    "n_iterations = 10000# Number of bootstrap iterations\n",
    "\n",
    "data = train_data.iloc[:, :-1]\n",
    "\n",
    "bootstrap_samples = [resample(data).apply(lambda col: np.std(col)) for _ in range(n_iterations)]\n",
    "    \n",
    "    \n",
    "bootstrap_samples_df = pd.DataFrame(bootstrap_samples, columns=list(data.columns))\n",
    "\n",
    "# Calculate the 5th and 95th percentiles for each column\n",
    "interval = bootstrap_samples_df.apply(lambda col : (np.percentile(col, 5), np.percentile(col, 95)), axis=0)\n",
    "\n",
    "# Round the values to 2 decimal places\n",
    "interval = interval.round(2)\n",
    "\n",
    "interval.insert(loc=0, column='bound', value=['low','high'])\n",
    "\n",
    "interval\n",
    "\n"
   ]
  },
  {
   "cell_type": "code",
   "execution_count": 548,
   "metadata": {
    "scrolled": true
   },
   "outputs": [
    {
     "data": {
      "text/plain": [
       "[5.59,\n",
       " 1.5999999999999999,\n",
       " 6.279999999999999,\n",
       " 5.489999999999999,\n",
       " 5.82,\n",
       " 6.16,\n",
       " 7.489999999999999]"
      ]
     },
     "execution_count": 548,
     "metadata": {},
     "output_type": "execute_result"
    }
   ],
   "source": [
    "width = [0] * len(STATS)\n",
    "cols = interval.columns\n",
    "for i in range(len(STATS)):\n",
    "    for c in cols:\n",
    "        if ORDERED_STATS[i] in c:\n",
    "            width[i] += interval[c].iloc[1] - interval[c].iloc[0]\n",
    "width\n",
    "            "
   ]
  },
  {
   "cell_type": "markdown",
   "metadata": {},
   "source": [
    "since when i=2,4,5 <br>\n",
    "interval has the smallest width, which is helpful for classfication <br>\n",
    "which means stats[2],stats[4],stats[5] are the most important 3 features: <br>\n",
    " <b>'mean', 'std', '1st_quartile'</b><br>"
   ]
  },
  {
   "cell_type": "markdown",
   "metadata": {},
   "source": [
    "## 2. ISLR 3.7.4"
   ]
  },
  {
   "cell_type": "markdown",
   "metadata": {},
   "source": [
    "### (a) Linear Train"
   ]
  },
  {
   "cell_type": "markdown",
   "metadata": {},
   "source": []
  },
  {
   "cell_type": "markdown",
   "metadata": {},
   "source": [
    "### (b) Linear Test"
   ]
  },
  {
   "cell_type": "markdown",
   "metadata": {},
   "source": []
  },
  {
   "cell_type": "markdown",
   "metadata": {},
   "source": [
    "### (c) Not Linear Train"
   ]
  },
  {
   "cell_type": "markdown",
   "metadata": {},
   "source": []
  },
  {
   "cell_type": "markdown",
   "metadata": {},
   "source": [
    "### (d) Not Linear Testing"
   ]
  },
  {
   "cell_type": "markdown",
   "metadata": {},
   "source": []
  },
  {
   "cell_type": "markdown",
   "metadata": {},
   "source": [
    "## 3. ISLR 3.7.3 - Extra Practice "
   ]
  },
  {
   "cell_type": "markdown",
   "metadata": {},
   "source": []
  },
  {
   "cell_type": "markdown",
   "metadata": {},
   "source": [
    "## 3. ISLR 3.7.5 - Extra Practice "
   ]
  },
  {
   "cell_type": "markdown",
   "metadata": {},
   "source": []
  }
 ],
 "metadata": {
  "kernelspec": {
   "display_name": "Python 3 (ipykernel)",
   "language": "python",
   "name": "python3"
  },
  "language_info": {
   "codemirror_mode": {
    "name": "ipython",
    "version": 3
   },
   "file_extension": ".py",
   "mimetype": "text/x-python",
   "name": "python",
   "nbconvert_exporter": "python",
   "pygments_lexer": "ipython3",
   "version": "3.11.5"
  },
  "toc": {
   "base_numbering": 1,
   "nav_menu": {},
   "number_sections": true,
   "sideBar": true,
   "skip_h1_title": true,
   "title_cell": "Table of Contents",
   "title_sidebar": "Contents",
   "toc_cell": false,
   "toc_position": {
    "height": "calc(100% - 180px)",
    "left": "10px",
    "top": "150px",
    "width": "294.435px"
   },
   "toc_section_display": true,
   "toc_window_display": true
  },
  "vscode": {
   "interpreter": {
    "hash": "3c20c2d94d2527936fe0f3a300eb11db30fed84423423838e2f93b74eb7aaebc"
   }
  }
 },
 "nbformat": 4,
 "nbformat_minor": 4
}
